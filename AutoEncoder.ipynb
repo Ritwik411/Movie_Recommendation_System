{
  "nbformat": 4,
  "nbformat_minor": 0,
  "metadata": {
    "colab": {
      "name": "Movie_Recommendation_System.ipynb",
      "provenance": [],
      "collapsed_sections": [],
      "mount_file_id": "1cvNfDx8T1MCNaI3KRQbeGpdA-VPTVwE3",
      "authorship_tag": "ABX9TyNBLcMbkzXPjbJIIn+wJ+jx",
      "include_colab_link": true
    },
    "kernelspec": {
      "name": "python3",
      "display_name": "Python 3"
    }
  },
  "cells": [
    {
      "cell_type": "markdown",
      "metadata": {
        "id": "view-in-github",
        "colab_type": "text"
      },
      "source": [
        "<a href=\"https://colab.research.google.com/github/Ritwik411/Movie_Recommendation_System/blob/master/AutoEncoder.ipynb\" target=\"_parent\"><img src=\"https://colab.research.google.com/assets/colab-badge.svg\" alt=\"Open In Colab\"/></a>"
      ]
    },
    {
      "cell_type": "code",
      "metadata": {
        "id": "SMwx7z0fhoRL",
        "colab_type": "code",
        "colab": {}
      },
      "source": [
        "import os\n",
        "os.chdir(\"/content/drive/My Drive/Boltzman_Machine\")"
      ],
      "execution_count": null,
      "outputs": []
    },
    {
      "cell_type": "code",
      "metadata": {
        "id": "zrN7C4tMhpq0",
        "colab_type": "code",
        "colab": {}
      },
      "source": [
        "import numpy as np\n",
        "import pandas as pd"
      ],
      "execution_count": null,
      "outputs": []
    },
    {
      "cell_type": "code",
      "metadata": {
        "id": "H7cVeCFohsqH",
        "colab_type": "code",
        "colab": {}
      },
      "source": [
        "import torch\n",
        "import torch.nn as nn\n",
        "import torch.nn.parallel\n",
        "import torch.optim as optim\n",
        "import torch.utils.data\n",
        "from torch.autograd import Variable"
      ],
      "execution_count": null,
      "outputs": []
    },
    {
      "cell_type": "code",
      "metadata": {
        "id": "NJNhN4Rxhv82",
        "colab_type": "code",
        "colab": {}
      },
      "source": [
        "df_train = pd.read_csv('ml-100k/u1.base',delimiter='\\t')\n",
        "df_test = pd.read_csv('ml-100k/u1.test',delimiter='\\t')"
      ],
      "execution_count": 91,
      "outputs": []
    },
    {
      "cell_type": "code",
      "metadata": {
        "id": "sxqjS9A0SYGb",
        "colab_type": "code",
        "colab": {}
      },
      "source": [
        "df_train.columns = ['user_id','movie_id','rating','timestamp']\n",
        "df_test.columns = df_train.columns"
      ],
      "execution_count": 92,
      "outputs": []
    },
    {
      "cell_type": "code",
      "metadata": {
        "id": "kH4fRwMqSoJ9",
        "colab_type": "code",
        "colab": {}
      },
      "source": [
        "# train.head()"
      ],
      "execution_count": 74,
      "outputs": []
    },
    {
      "cell_type": "code",
      "metadata": {
        "id": "sEmMBmmeSMp-",
        "colab_type": "code",
        "colab": {}
      },
      "source": [
        "# movie_names = pd.read_csv(\"ml-100k/movies.csv\")\n",
        "# movie_names.head()"
      ],
      "execution_count": 75,
      "outputs": []
    },
    {
      "cell_type": "code",
      "metadata": {
        "id": "7EJDYjJsWN-2",
        "colab_type": "code",
        "colab": {}
      },
      "source": [
        "# l1 = movie_names['genres'].str.split(\"|\")\n",
        "# s = set()\n",
        "# for i in l1:\n",
        "#   for j in i:\n",
        "#     if j not in s:\n",
        "#       s.add(j)\n",
        "# print(s)"
      ],
      "execution_count": 76,
      "outputs": []
    },
    {
      "cell_type": "code",
      "metadata": {
        "id": "1RQoxhZcXSBs",
        "colab_type": "code",
        "colab": {}
      },
      "source": [
        "# list(s)"
      ],
      "execution_count": 77,
      "outputs": []
    },
    {
      "cell_type": "code",
      "metadata": {
        "id": "CUge5UdYa4nn",
        "colab_type": "code",
        "colab": {}
      },
      "source": [
        "# l1"
      ],
      "execution_count": 78,
      "outputs": []
    },
    {
      "cell_type": "code",
      "metadata": {
        "id": "OQPHrjytXxLY",
        "colab_type": "code",
        "colab": {}
      },
      "source": [
        "# temp = movie_names['genres'].str.split(\"|\",expand=True)"
      ],
      "execution_count": 79,
      "outputs": []
    },
    {
      "cell_type": "code",
      "metadata": {
        "id": "z1onHu9eX6BY",
        "colab_type": "code",
        "colab": {}
      },
      "source": [
        "# temp.head()"
      ],
      "execution_count": 80,
      "outputs": []
    },
    {
      "cell_type": "code",
      "metadata": {
        "id": "_pUF8c4KSQdE",
        "colab_type": "code",
        "colab": {}
      },
      "source": [
        "train = np.array(df_train,dtype='int')\n",
        "test = np.array(df_test,dtype='int')"
      ],
      "execution_count": 81,
      "outputs": []
    },
    {
      "cell_type": "code",
      "metadata": {
        "id": "Kqfte9bPNkXX",
        "colab_type": "code",
        "colab": {}
      },
      "source": [
        "num_users = int(max(max(train[:,0]),max(test[:,0])))\n",
        "num_movies = int(max(max(train[:,1]),max(test[:,1])))"
      ],
      "execution_count": 82,
      "outputs": []
    },
    {
      "cell_type": "code",
      "metadata": {
        "id": "wP5Ydd9lfpGj",
        "colab_type": "code",
        "colab": {
          "base_uri": "https://localhost:8080/",
          "height": 34
        },
        "outputId": "e5a5ec11-8cbf-49f1-cdc5-806b6ad0b297"
      },
      "source": [
        "print(num_users,num_movies)"
      ],
      "execution_count": 83,
      "outputs": [
        {
          "output_type": "stream",
          "text": [
            "943 1682\n"
          ],
          "name": "stdout"
        }
      ]
    },
    {
      "cell_type": "code",
      "metadata": {
        "id": "Ztnbhd7sh0fp",
        "colab_type": "code",
        "colab": {}
      },
      "source": [
        "def convert(data):\n",
        "  new_data = []\n",
        "  for user_id in range(1,num_users+1):\n",
        "    movie_id = data[:,1][data[:,0]==user_id]\n",
        "    rating_id = data[:,2][data[:,0]==user_id]\n",
        "    ratings = np.zeros(num_movies)\n",
        "    ratings[movie_id-1] = rating_id\n",
        "    new_data.append(list(ratings))\n",
        "  return new_data"
      ],
      "execution_count": 48,
      "outputs": []
    },
    {
      "cell_type": "code",
      "metadata": {
        "id": "qQCjeo7oh3uE",
        "colab_type": "code",
        "colab": {}
      },
      "source": [
        "train = convert(train) #Size of train - 943 rows(number of users), 1682 columns (rating given to each movie)\n",
        "test = convert(test)"
      ],
      "execution_count": 84,
      "outputs": []
    },
    {
      "cell_type": "code",
      "metadata": {
        "id": "Bwx69MeBh6lI",
        "colab_type": "code",
        "colab": {}
      },
      "source": [
        "train = torch.FloatTensor(train)\n",
        "test = torch.FloatTensor(test)"
      ],
      "execution_count": 50,
      "outputs": []
    },
    {
      "cell_type": "code",
      "metadata": {
        "id": "RQau-l8w7udt",
        "colab_type": "code",
        "colab": {}
      },
      "source": [
        "class SAE(nn.Module):\n",
        "  def __init__(self,):\n",
        "    super(SAE,self).__init__()\n",
        "    #No. of hidden layers in the neural network\n",
        "    self.fc1 = nn.Linear(num_movies,20)\n",
        "    self.fc2 = nn.Linear(20,10)\n",
        "    self.fc3 = nn.Linear(10, 20)\n",
        "    self.fc4 = nn.Linear(20,num_movies)\n",
        "    #Activation function usign Sigmoid\n",
        "    self.activation = nn.Sigmoid()\n",
        "  #Encoding and decoding\n",
        "  def forward(self, x):\n",
        "    x = self.activation(self.fc1(x))\n",
        "    x = self.activation(self.fc2(x))\n",
        "    x = self.activation(self.fc3(x))\n",
        "    x = self.fc4(x)\n",
        "    return x\n",
        "sae = SAE()\n",
        "criterion = nn.MSELoss()\n",
        "optimizer = optim.RMSprop(sae.parameters(),lr = 0.01, weight_decay = 0.5)"
      ],
      "execution_count": 51,
      "outputs": []
    },
    {
      "cell_type": "code",
      "metadata": {
        "id": "TQZ92T7BAGvE",
        "colab_type": "code",
        "colab": {}
      },
      "source": [
        "#Training\n",
        "nb_epoch = 256\n",
        "for epoch in range(1,nb_epoch+1):\n",
        "  train_loss = 0\n",
        "  s = 0.\n",
        "  for user_id in range(num_users):\n",
        "    input = Variable(train[user_id]).unsqueeze(0) # creates a batch\n",
        "    target = input.clone()\n",
        "    if torch.sum(target.data>0)>0:\n",
        "      output = sae(input)\n",
        "      target.require_grad = False\n",
        "      output[target ==0] = 0\n",
        "      loss = criterion(output, target)\n",
        "      mean_corrector = num_movies/float(torch.sum(target.data>0)+ 1e-10)\n",
        "      loss.backward()\n",
        "      train_loss += np.sqrt(loss.data*mean_corrector)\n",
        "      s += 1.\n",
        "      optimizer.step()\n",
        "  print(\"epoch : \"+ str(epoch)+\" loss :\"+str(train_loss/s))"
      ],
      "execution_count": null,
      "outputs": []
    },
    {
      "cell_type": "code",
      "metadata": {
        "id": "v5YhYOPTNzDA",
        "colab_type": "code",
        "colab": {
          "base_uri": "https://localhost:8080/",
          "height": 88
        },
        "outputId": "d162473d-d748-4971-d77a-917e6e8499a2"
      },
      "source": [
        "test_loss = 0\n",
        "s = 0.\n",
        "for user_id in range(num_users):\n",
        "  input = Variable(train[user_id]).unsqueeze(0) #Keep train set\n",
        "  target = Variable(test[user_id])\n",
        "  if torch.sum(target.data>0)>0:\n",
        "    output = sae(input)\n",
        "    target.require_grad = False\n",
        "    output[(target ==0).unsqueeze(0)] = 0 #Non-zero ratings\n",
        "    loss = criterion(output, target)\n",
        "    mean_corrector = num_movies/float(torch.sum(target.data>0)+ 1e-10)\n",
        "    #No back propogation using testing\n",
        "    test_loss += np.sqrt(loss.data*mean_corrector)\n",
        "    s += 1.\n",
        "    # No optimizer.step() for testing\n",
        "print(\"Test Loss : \"+str(test_loss/s))"
      ],
      "execution_count": 53,
      "outputs": [
        {
          "output_type": "stream",
          "text": [
            "/usr/local/lib/python3.6/dist-packages/torch/nn/modules/loss.py:445: UserWarning: Using a target size (torch.Size([1682])) that is different to the input size (torch.Size([1, 1682])). This will likely lead to incorrect results due to broadcasting. Please ensure they have the same size.\n",
            "  return F.mse_loss(input, target, reduction=self.reduction)\n"
          ],
          "name": "stderr"
        },
        {
          "output_type": "stream",
          "text": [
            "Test Loss : tensor(0.9488)\n"
          ],
          "name": "stdout"
        }
      ]
    },
    {
      "cell_type": "code",
      "metadata": {
        "id": "wxp6UfdoMBF0",
        "colab_type": "code",
        "colab": {}
      },
      "source": [
        "# nar = torch.detach(sae(input)).numpy()"
      ],
      "execution_count": 64,
      "outputs": []
    },
    {
      "cell_type": "code",
      "metadata": {
        "id": "PlH7XRFThjrI",
        "colab_type": "code",
        "colab": {}
      },
      "source": [
        "# temp = []\n",
        "# for i in nar:\n",
        "#   for j in i:\n",
        "#     temp.append(j)"
      ],
      "execution_count": 70,
      "outputs": []
    },
    {
      "cell_type": "code",
      "metadata": {
        "id": "UKuh_xAwjtrY",
        "colab_type": "code",
        "colab": {}
      },
      "source": [
        ""
      ],
      "execution_count": null,
      "outputs": []
    },
    {
      "cell_type": "code",
      "metadata": {
        "id": "jl_sHvg-jzuV",
        "colab_type": "code",
        "colab": {}
      },
      "source": [
        ""
      ],
      "execution_count": null,
      "outputs": []
    }
  ]
}