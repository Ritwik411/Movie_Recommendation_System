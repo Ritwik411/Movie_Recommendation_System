{
  "nbformat": 4,
  "nbformat_minor": 0,
  "metadata": {
    "colab": {
      "name": "Movie_Recommendation_System.ipynb",
      "provenance": [],
      "collapsed_sections": [],
      "mount_file_id": "1cvNfDx8T1MCNaI3KRQbeGpdA-VPTVwE3",
      "authorship_tag": "ABX9TyO1vpzFXtagELk3OtiLWnxm",
      "include_colab_link": true
    },
    "kernelspec": {
      "name": "python3",
      "display_name": "Python 3"
    }
  },
  "cells": [
    {
      "cell_type": "markdown",
      "metadata": {
        "id": "view-in-github",
        "colab_type": "text"
      },
      "source": [
        "<a href=\"https://colab.research.google.com/github/Ritwik411/Movie_Recommendation_System/blob/master/Movie_Recommendation_System.ipynb\" target=\"_parent\"><img src=\"https://colab.research.google.com/assets/colab-badge.svg\" alt=\"Open In Colab\"/></a>"
      ]
    },
    {
      "cell_type": "markdown",
      "metadata": {
        "id": "SXWaSqh-vW2t",
        "colab_type": "text"
      },
      "source": [
        "# **Movie Recommendation** "
      ]
    },
    {
      "cell_type": "code",
      "metadata": {
        "id": "SMwx7z0fhoRL",
        "colab_type": "code",
        "colab": {}
      },
      "source": [
        "import os\n",
        "os.chdir(\"Path to your dataset\")"
      ],
      "execution_count": null,
      "outputs": []
    },
    {
      "cell_type": "code",
      "metadata": {
        "id": "zrN7C4tMhpq0",
        "colab_type": "code",
        "colab": {}
      },
      "source": [
        "import numpy as np\n",
        "import pandas as pd"
      ],
      "execution_count": null,
      "outputs": []
    },
    {
      "cell_type": "code",
      "metadata": {
        "id": "H7cVeCFohsqH",
        "colab_type": "code",
        "colab": {}
      },
      "source": [
        "import torch\n",
        "import torch.nn as nn\n",
        "import torch.nn.parallel\n",
        "import torch.optim as optim\n",
        "import torch.utils.data\n",
        "from torch.autograd import Variable"
      ],
      "execution_count": null,
      "outputs": []
    },
    {
      "cell_type": "markdown",
      "metadata": {
        "id": "QzJdQQR3v_DU",
        "colab_type": "text"
      },
      "source": [
        "### Import training and testing datasets"
      ]
    },
    {
      "cell_type": "code",
      "metadata": {
        "id": "NJNhN4Rxhv82",
        "colab_type": "code",
        "colab": {}
      },
      "source": [
        "df_train = pd.read_csv('ml-100k/u1.base',delimiter='\\t')\n",
        "df_test = pd.read_csv('ml-100k/u1.test',delimiter='\\t')"
      ],
      "execution_count": 91,
      "outputs": []
    },
    {
      "cell_type": "code",
      "metadata": {
        "id": "sxqjS9A0SYGb",
        "colab_type": "code",
        "colab": {}
      },
      "source": [
        "df_train.columns = ['user_id','movie_id','rating','timestamp']\n",
        "df_test.columns = df_train.columns"
      ],
      "execution_count": 92,
      "outputs": []
    },
    {
      "cell_type": "code",
      "metadata": {
        "id": "_pUF8c4KSQdE",
        "colab_type": "code",
        "colab": {}
      },
      "source": [
        "train = np.array(df_train,dtype='int')\n",
        "test = np.array(df_test,dtype='int')"
      ],
      "execution_count": 101,
      "outputs": []
    },
    {
      "cell_type": "code",
      "metadata": {
        "id": "Kqfte9bPNkXX",
        "colab_type": "code",
        "colab": {}
      },
      "source": [
        "num_users = int(max(max(train[:,0]),max(test[:,0])))\n",
        "num_movies = int(max(max(train[:,1]),max(test[:,1])))"
      ],
      "execution_count": 102,
      "outputs": []
    },
    {
      "cell_type": "code",
      "metadata": {
        "id": "wP5Ydd9lfpGj",
        "colab_type": "code",
        "colab": {
          "base_uri": "https://localhost:8080/",
          "height": 34
        },
        "outputId": "1f041f0c-9f17-4fd0-ae45-36be74180a63"
      },
      "source": [
        "print(num_users,num_movies)"
      ],
      "execution_count": 103,
      "outputs": [
        {
          "output_type": "stream",
          "text": [
            "943 1682\n"
          ],
          "name": "stdout"
        }
      ]
    },
    {
      "cell_type": "markdown",
      "metadata": {
        "id": "rFF_rwRbwcjT",
        "colab_type": "text"
      },
      "source": [
        "#### Map the movie rating for each user "
      ]
    },
    {
      "cell_type": "code",
      "metadata": {
        "id": "Ztnbhd7sh0fp",
        "colab_type": "code",
        "colab": {}
      },
      "source": [
        "def convert(data):\n",
        "  new_data = []\n",
        "  for user_id in range(1,num_users+1):\n",
        "    movie_id = data[:,1][data[:,0]==user_id]\n",
        "    rating_id = data[:,2][data[:,0]==user_id]\n",
        "    ratings = np.zeros(num_movies)\n",
        "    ratings[movie_id-1] = rating_id\n",
        "    new_data.append(list(ratings))\n",
        "  return new_data"
      ],
      "execution_count": 104,
      "outputs": []
    },
    {
      "cell_type": "code",
      "metadata": {
        "id": "qQCjeo7oh3uE",
        "colab_type": "code",
        "colab": {}
      },
      "source": [
        "#Size of train - 943 rows(number of users), 1682 columns (rating given to each movie)\n",
        "train = convert(train) \n",
        "test = convert(test)"
      ],
      "execution_count": 105,
      "outputs": []
    },
    {
      "cell_type": "code",
      "metadata": {
        "id": "Bwx69MeBh6lI",
        "colab_type": "code",
        "colab": {}
      },
      "source": [
        "train = torch.FloatTensor(train)\n",
        "test = torch.FloatTensor(test)"
      ],
      "execution_count": 106,
      "outputs": []
    },
    {
      "cell_type": "markdown",
      "metadata": {
        "id": "PAqAVj5twoxs",
        "colab_type": "text"
      },
      "source": [
        "### Auto-Encoder Architecture"
      ]
    },
    {
      "cell_type": "code",
      "metadata": {
        "id": "RQau-l8w7udt",
        "colab_type": "code",
        "colab": {}
      },
      "source": [
        "class SAE(nn.Module):\n",
        "  def __init__(self,):\n",
        "    super(SAE,self).__init__()\n",
        "    #No. of hidden layers in the neural network\n",
        "    self.fc1 = nn.Linear(num_movies,20)\n",
        "    self.fc2 = nn.Linear(20,10)\n",
        "    self.fc3 = nn.Linear(10, 20)\n",
        "    self.fc4 = nn.Linear(20,num_movies)\n",
        "    #Activation function usign Sigmoid\n",
        "    self.activation = nn.Sigmoid()\n",
        "  #Encoding and decoding\n",
        "  def forward(self, x):\n",
        "    x = self.activation(self.fc1(x))\n",
        "    x = self.activation(self.fc2(x))\n",
        "    x = self.activation(self.fc3(x))\n",
        "    x = self.fc4(x)\n",
        "    return x\n",
        "sae = SAE()\n",
        "criterion = nn.MSELoss()\n",
        "optimizer = optim.RMSprop(sae.parameters(),lr = 0.01, weight_decay = 0.5)"
      ],
      "execution_count": 51,
      "outputs": []
    },
    {
      "cell_type": "markdown",
      "metadata": {
        "id": "BAvK87U7wu60",
        "colab_type": "text"
      },
      "source": [
        "### Training"
      ]
    },
    {
      "cell_type": "code",
      "metadata": {
        "id": "TQZ92T7BAGvE",
        "colab_type": "code",
        "colab": {}
      },
      "source": [
        "#Training\n",
        "nb_epoch = 256\n",
        "for epoch in range(1,nb_epoch+1):\n",
        "  train_loss = 0\n",
        "  s = 0.\n",
        "  for user_id in range(num_users):\n",
        "    input = Variable(train[user_id]).unsqueeze(0) # creates a batch\n",
        "    target = input.clone()\n",
        "    if torch.sum(target.data>0)>0:\n",
        "      output = sae(input)\n",
        "      target.require_grad = False\n",
        "      output[target ==0] = 0\n",
        "      loss = criterion(output, target)\n",
        "      mean_corrector = num_movies/float(torch.sum(target.data>0)+ 1e-10)\n",
        "      loss.backward()\n",
        "      train_loss += np.sqrt(loss.data*mean_corrector)\n",
        "      s += 1.\n",
        "      optimizer.step()\n",
        "  print(\"epoch : \"+ str(epoch)+\" loss :\"+str(train_loss/s))"
      ],
      "execution_count": null,
      "outputs": []
    },
    {
      "cell_type": "markdown",
      "metadata": {
        "id": "6kCz0xrpw0pk",
        "colab_type": "text"
      },
      "source": [
        "### Testing"
      ]
    },
    {
      "cell_type": "code",
      "metadata": {
        "id": "v5YhYOPTNzDA",
        "colab_type": "code",
        "colab": {
          "base_uri": "https://localhost:8080/",
          "height": 88
        },
        "outputId": "6683a2a6-72ee-40dd-f80d-130c3c98121f"
      },
      "source": [
        "test_loss = 0\n",
        "s = 0.\n",
        "for user_id in range(num_users):\n",
        "  input = Variable(train[user_id]).unsqueeze(0) #Keep train set\n",
        "  target = Variable(test[user_id])\n",
        "  if torch.sum(target.data>0)>0:\n",
        "    output = sae(input)\n",
        "    target.require_grad = False\n",
        "    output[(target ==0).unsqueeze(0)] = 0 #Non-zero ratings\n",
        "    loss = criterion(output, target)\n",
        "    mean_corrector = num_movies/float(torch.sum(target.data>0)+ 1e-10)\n",
        "    #No back propogation using testing\n",
        "    test_loss += np.sqrt(loss.data*mean_corrector)\n",
        "    s += 1.\n",
        "    # No optimizer.step() for testing\n",
        "print(\"Test Loss : \"+str(test_loss/s))"
      ],
      "execution_count": 141,
      "outputs": [
        {
          "output_type": "stream",
          "text": [
            "/usr/local/lib/python3.6/dist-packages/torch/nn/modules/loss.py:445: UserWarning: Using a target size (torch.Size([1682])) that is different to the input size (torch.Size([1, 1682])). This will likely lead to incorrect results due to broadcasting. Please ensure they have the same size.\n",
            "  return F.mse_loss(input, target, reduction=self.reduction)\n"
          ],
          "name": "stderr"
        },
        {
          "output_type": "stream",
          "text": [
            "Test Loss : tensor(0.9488)\n"
          ],
          "name": "stdout"
        }
      ]
    },
    {
      "cell_type": "markdown",
      "metadata": {
        "id": "sKPdnGbtrGhS",
        "colab_type": "text"
      },
      "source": [
        "# Sample Recommendation "
      ]
    },
    {
      "cell_type": "code",
      "metadata": {
        "id": "wxp6UfdoMBF0",
        "colab_type": "code",
        "colab": {}
      },
      "source": [
        "user = 74\n",
        "input_var = Variable(train[user]).unsqueeze(0)\n",
        "result = torch.detach(sae(input_var)).numpy()"
      ],
      "execution_count": 108,
      "outputs": []
    },
    {
      "cell_type": "markdown",
      "metadata": {
        "id": "bTTlP3VkwLdV",
        "colab_type": "text"
      },
      "source": [
        "### Import movies.csv for movie names"
      ]
    },
    {
      "cell_type": "code",
      "metadata": {
        "id": "sEmMBmmeSMp-",
        "colab_type": "code",
        "colab": {
          "base_uri": "https://localhost:8080/",
          "height": 204
        },
        "outputId": "8f1bfc03-25c2-4b78-acb6-7f10d685126a"
      },
      "source": [
        "movie_names = pd.read_csv(\"ml-100k/movies.csv\")[['movieId','title']]\n",
        "movie_names.head()"
      ],
      "execution_count": 127,
      "outputs": [
        {
          "output_type": "execute_result",
          "data": {
            "text/html": [
              "<div>\n",
              "<style scoped>\n",
              "    .dataframe tbody tr th:only-of-type {\n",
              "        vertical-align: middle;\n",
              "    }\n",
              "\n",
              "    .dataframe tbody tr th {\n",
              "        vertical-align: top;\n",
              "    }\n",
              "\n",
              "    .dataframe thead th {\n",
              "        text-align: right;\n",
              "    }\n",
              "</style>\n",
              "<table border=\"1\" class=\"dataframe\">\n",
              "  <thead>\n",
              "    <tr style=\"text-align: right;\">\n",
              "      <th></th>\n",
              "      <th>movieId</th>\n",
              "      <th>title</th>\n",
              "    </tr>\n",
              "  </thead>\n",
              "  <tbody>\n",
              "    <tr>\n",
              "      <th>0</th>\n",
              "      <td>1</td>\n",
              "      <td>Toy Story (1995)</td>\n",
              "    </tr>\n",
              "    <tr>\n",
              "      <th>1</th>\n",
              "      <td>2</td>\n",
              "      <td>Jumanji (1995)</td>\n",
              "    </tr>\n",
              "    <tr>\n",
              "      <th>2</th>\n",
              "      <td>3</td>\n",
              "      <td>Grumpier Old Men (1995)</td>\n",
              "    </tr>\n",
              "    <tr>\n",
              "      <th>3</th>\n",
              "      <td>4</td>\n",
              "      <td>Waiting to Exhale (1995)</td>\n",
              "    </tr>\n",
              "    <tr>\n",
              "      <th>4</th>\n",
              "      <td>5</td>\n",
              "      <td>Father of the Bride Part II (1995)</td>\n",
              "    </tr>\n",
              "  </tbody>\n",
              "</table>\n",
              "</div>"
            ],
            "text/plain": [
              "   movieId                               title\n",
              "0        1                    Toy Story (1995)\n",
              "1        2                      Jumanji (1995)\n",
              "2        3             Grumpier Old Men (1995)\n",
              "3        4            Waiting to Exhale (1995)\n",
              "4        5  Father of the Bride Part II (1995)"
            ]
          },
          "metadata": {
            "tags": []
          },
          "execution_count": 127
        }
      ]
    },
    {
      "cell_type": "code",
      "metadata": {
        "id": "PlH7XRFThjrI",
        "colab_type": "code",
        "colab": {}
      },
      "source": [
        "temp = []\n",
        "for i in result:\n",
        "  for j in i:\n",
        "    temp.append(j)"
      ],
      "execution_count": 109,
      "outputs": []
    },
    {
      "cell_type": "code",
      "metadata": {
        "id": "l8-aUfw6no2u",
        "colab_type": "code",
        "colab": {}
      },
      "source": [
        "df = pd.DataFrame(temp,columns=['Ratings'])"
      ],
      "execution_count": 132,
      "outputs": []
    },
    {
      "cell_type": "code",
      "metadata": {
        "id": "UKuh_xAwjtrY",
        "colab_type": "code",
        "colab": {}
      },
      "source": [
        "df['movieId'] = df.index+1\n",
        "df = pd.merge(df,movie_names,on='movieId')"
      ],
      "execution_count": 135,
      "outputs": []
    },
    {
      "cell_type": "code",
      "metadata": {
        "id": "jl_sHvg-jzuV",
        "colab_type": "code",
        "colab": {
          "base_uri": "https://localhost:8080/",
          "height": 204
        },
        "outputId": "9b292664-e043-4385-ebc7-095b0ab84382"
      },
      "source": [
        "df.head()"
      ],
      "execution_count": 136,
      "outputs": [
        {
          "output_type": "execute_result",
          "data": {
            "text/html": [
              "<div>\n",
              "<style scoped>\n",
              "    .dataframe tbody tr th:only-of-type {\n",
              "        vertical-align: middle;\n",
              "    }\n",
              "\n",
              "    .dataframe tbody tr th {\n",
              "        vertical-align: top;\n",
              "    }\n",
              "\n",
              "    .dataframe thead th {\n",
              "        text-align: right;\n",
              "    }\n",
              "</style>\n",
              "<table border=\"1\" class=\"dataframe\">\n",
              "  <thead>\n",
              "    <tr style=\"text-align: right;\">\n",
              "      <th></th>\n",
              "      <th>Ratings</th>\n",
              "      <th>movieId</th>\n",
              "      <th>title</th>\n",
              "    </tr>\n",
              "  </thead>\n",
              "  <tbody>\n",
              "    <tr>\n",
              "      <th>0</th>\n",
              "      <td>3.683569</td>\n",
              "      <td>1</td>\n",
              "      <td>Toy Story (1995)</td>\n",
              "    </tr>\n",
              "    <tr>\n",
              "      <th>1</th>\n",
              "      <td>3.172250</td>\n",
              "      <td>2</td>\n",
              "      <td>Jumanji (1995)</td>\n",
              "    </tr>\n",
              "    <tr>\n",
              "      <th>2</th>\n",
              "      <td>2.561374</td>\n",
              "      <td>3</td>\n",
              "      <td>Grumpier Old Men (1995)</td>\n",
              "    </tr>\n",
              "    <tr>\n",
              "      <th>3</th>\n",
              "      <td>3.286338</td>\n",
              "      <td>4</td>\n",
              "      <td>Waiting to Exhale (1995)</td>\n",
              "    </tr>\n",
              "    <tr>\n",
              "      <th>4</th>\n",
              "      <td>3.060054</td>\n",
              "      <td>5</td>\n",
              "      <td>Father of the Bride Part II (1995)</td>\n",
              "    </tr>\n",
              "  </tbody>\n",
              "</table>\n",
              "</div>"
            ],
            "text/plain": [
              "    Ratings  movieId                               title\n",
              "0  3.683569        1                    Toy Story (1995)\n",
              "1  3.172250        2                      Jumanji (1995)\n",
              "2  2.561374        3             Grumpier Old Men (1995)\n",
              "3  3.286338        4            Waiting to Exhale (1995)\n",
              "4  3.060054        5  Father of the Bride Part II (1995)"
            ]
          },
          "metadata": {
            "tags": []
          },
          "execution_count": 136
        }
      ]
    },
    {
      "cell_type": "markdown",
      "metadata": {
        "id": "eL0aHiDQtsA4",
        "colab_type": "text"
      },
      "source": [
        "## Top 10 Movie for the user"
      ]
    },
    {
      "cell_type": "code",
      "metadata": {
        "id": "c-W0_dPqp8aO",
        "colab_type": "code",
        "colab": {
          "base_uri": "https://localhost:8080/",
          "height": 204
        },
        "outputId": "2b279a96-24ca-458c-fe26-aa6571040d5b"
      },
      "source": [
        "print(df.nlargest(10,['Ratings'])['title'])"
      ],
      "execution_count": 140,
      "outputs": [
        {
          "output_type": "stream",
          "text": [
            "1585        Indian Summer (a.k.a. Alive & Kicking) (1996)\n",
            "1457                           Grosse Pointe Blank (1997)\n",
            "1414                           Waiting for Guffman (1996)\n",
            "167               Free Willy 2: The Adventure Home (1995)\n",
            "404                                      8 Seconds (1994)\n",
            "1547                                         Steel (1997)\n",
            "1336                                101 Dalmatians (1996)\n",
            "1430                                 Salut cousin! (1996)\n",
            "1596                                       Gattaca (1997)\n",
            "125     Silences of the Palace, The (Saimt el Qusur) (...\n",
            "Name: title, dtype: object\n"
          ],
          "name": "stdout"
        }
      ]
    }
  ]
}